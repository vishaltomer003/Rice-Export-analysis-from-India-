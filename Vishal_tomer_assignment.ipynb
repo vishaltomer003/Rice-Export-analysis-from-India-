{
 "cells": [
  {
   "attachments": {},
   "cell_type": "markdown",
   "metadata": {},
   "source": [
    "# Data pre-processing and Merging of all the table in one"
   ]
  },
  {
   "cell_type": "code",
   "execution_count": 1,
   "metadata": {},
   "outputs": [],
   "source": [
    "# Importing important libraries \n",
    "import pandas as pd \n",
    "import datetime as dt\n",
    "import os                                                                                                     "
   ]
  },
  {
   "cell_type": "code",
   "execution_count": 3,
   "metadata": {},
   "outputs": [
    {
     "data": {
      "text/plain": [
       "['Rice Exporters 2018.xlsx',\n",
       " 'Rice Exporters 2019.xlsx',\n",
       " 'Rice Exporters 2020.xlsx',\n",
       " 'Rice Exporters 2021.xlsx',\n",
       " 'Rice Exporters 2022.xlsx',\n",
       " 'Vishal_tomer_assignment.ipynb']"
      ]
     },
     "execution_count": 3,
     "metadata": {},
     "output_type": "execute_result"
    }
   ],
   "source": [
    "file = os.listdir(r\"C:\\Users\\Vaishali Tomar\\Desktop\\chace_test\") # List of All the spreadsheets of 5 years.\n",
    "file"
   ]
  },
  {
   "attachments": {},
   "cell_type": "markdown",
   "metadata": {},
   "source": [
    "### Merging all the sheets of All five Workbook to one Data frame"
   ]
  },
  {
   "cell_type": "code",
   "execution_count": 10,
   "metadata": {},
   "outputs": [],
   "source": [
    "finaldf = pd.DataFrame()   # Empty dataframe\n",
    "for i in  file:\n",
    "    xls = pd.ExcelFile(r\"C:/Users/Vaishali Tomar/Desktop/chace_test/\"+i)  # Reading all the sheets in every Excel Workbook in a loop from 2018 to 2022\n",
    "    sheets = xls.book.worksheets \n",
    "    \n",
    "    lis = []\n",
    "    for sheet in sheets:       # Another loop for selecting only \"VISIBLE\" sheets avoiding all the \"hidden\" sheets.\n",
    "        if sheet.sheet_state == 'visible':\n",
    "            lis.append(sheet.title) # Appending all the visible sheet in a list\n",
    "\n",
    "    s = pd.read_excel(r\"C:/Users/Vaishali Tomar/Desktop/chace_test/\"+i,sheet_name = lis)# Merging all the sheets of a Workbook in \"lis\" column to one.\n",
    "    \n",
    "    df = pd.concat(s[frame] for frame in s.keys()) # Concatinate them one by one\n",
    "    \n",
    "    finaldf = pd.concat([finaldf,df]) # Finally making one single table  by Concatinating them one by one from 2018 to 2022 with \"finaldf\"\n"
   ]
  },
  {
   "cell_type": "code",
   "execution_count": 11,
   "metadata": {},
   "outputs": [
    {
     "data": {
      "text/plain": [
       "(428548, 48)"
      ]
     },
     "execution_count": 11,
     "metadata": {},
     "output_type": "execute_result"
    }
   ],
   "source": [
    "finaldf.shape # shape of final table "
   ]
  },
  {
   "cell_type": "code",
   "execution_count": 12,
   "metadata": {},
   "outputs": [
    {
     "data": {
      "text/plain": [
       "NO                            0\n",
       "ARRIVAL DATE                  0\n",
       "HS CODE                       0\n",
       "HS CODE DESCRIPTION        2318\n",
       "IMPORTER NAME              2614\n",
       "IMPORTER ADDRESS           5430\n",
       "IMPORTER COUNTRY              0\n",
       "CITY STATE                  187\n",
       "TEL                       10851\n",
       "FAX                       12549\n",
       "E-MAIL                     8813\n",
       "WEB                       15968\n",
       "EXPORTER NAME              2024\n",
       "EXPORTER ADDRESS          31116\n",
       "COUNTRY OF ORIGIN             0\n",
       "IMPORT VALUE FOB              0\n",
       "IMPORT VALUE CIF              0\n",
       "CURRENCY                  13133\n",
       "NET WEIGHT                    0\n",
       "NET WEIGHT UNIT          399546\n",
       "GROSS WEIGHT                  0\n",
       "GROSS WEIGHT UNIT        394456\n",
       "QUANTITY                      0\n",
       "QUANTITY UNIT             20792\n",
       "PRODUCT DETAILS            5535\n",
       "NUMBER OF PACKAGES            0\n",
       "PACKAGES UNIT            414184\n",
       "INCOTERMS                421440\n",
       "PLACE OF DELIVERY        423542\n",
       "BRAND NAME               424247\n",
       "MANUFACTORING COMPANY    425219\n",
       "PORT OF ARRIVAL           15852\n",
       "PORT OF DEPARTURE         28243\n",
       "NOTIFY PARTY             410806\n",
       "NOTIFY ADDRESS           422358\n",
       "VOLUME                        0\n",
       "VOLUME UNIT              428548\n",
       "PREPORT                  428548\n",
       "SHIPPER COUNTRY          421197\n",
       "US STATE                 428548\n",
       "US PORT2                 428548\n",
       "FINAL US PORT            428548\n",
       "FINAL FOREIGN PORT       428548\n",
       "FINAL COUNTRY            428548\n",
       "CONTAINER COUNT               0\n",
       "TOTAL TEUS                    0\n",
       "Final Qty                421161\n",
       "PORT OF DEPARTURE.1      421820\n",
       "dtype: int64"
      ]
     },
     "execution_count": 12,
     "metadata": {},
     "output_type": "execute_result"
    }
   ],
   "source": [
    "finaldf.isnull().sum() # checking null values"
   ]
  },
  {
   "cell_type": "code",
   "execution_count": 13,
   "metadata": {},
   "outputs": [
    {
     "data": {
      "text/html": [
       "<div>\n",
       "<style scoped>\n",
       "    .dataframe tbody tr th:only-of-type {\n",
       "        vertical-align: middle;\n",
       "    }\n",
       "\n",
       "    .dataframe tbody tr th {\n",
       "        vertical-align: top;\n",
       "    }\n",
       "\n",
       "    .dataframe thead th {\n",
       "        text-align: right;\n",
       "    }\n",
       "</style>\n",
       "<table border=\"1\" class=\"dataframe\">\n",
       "  <thead>\n",
       "    <tr style=\"text-align: right;\">\n",
       "      <th></th>\n",
       "      <th>ARRIVAL DATE</th>\n",
       "      <th>HS CODE</th>\n",
       "      <th>HS CODE DESCRIPTION</th>\n",
       "      <th>IMPORTER NAME</th>\n",
       "      <th>IMPORTER COUNTRY</th>\n",
       "      <th>CITY STATE</th>\n",
       "      <th>EXPORTER NAME</th>\n",
       "      <th>EXPORTER ADDRESS</th>\n",
       "      <th>COUNTRY OF ORIGIN</th>\n",
       "      <th>IMPORT VALUE FOB</th>\n",
       "      <th>CURRENCY</th>\n",
       "      <th>QUANTITY</th>\n",
       "      <th>QUANTITY UNIT</th>\n",
       "      <th>PRODUCT DETAILS</th>\n",
       "      <th>PORT OF ARRIVAL</th>\n",
       "      <th>PORT OF DEPARTURE</th>\n",
       "    </tr>\n",
       "  </thead>\n",
       "  <tbody>\n",
       "    <tr>\n",
       "      <th>0</th>\n",
       "      <td>2018-01-30 03:00:00</td>\n",
       "      <td>10063090</td>\n",
       "      <td>Rice Excptg Parboiled (Excl Basmati Rice)</td>\n",
       "      <td>WALQ GENERAL TRADING</td>\n",
       "      <td>United Arab Emirates</td>\n",
       "      <td>United Arab Emirates</td>\n",
       "      <td>SCM AGROTECH ENTERPRISES PRIVATE LIMITED</td>\n",
       "      <td>165&amp;166A,ZONE1-M.P NAGAR,   ,BHOPAL,MADHYA PRA...</td>\n",
       "      <td>India</td>\n",
       "      <td>25970.76</td>\n",
       "      <td>USD</td>\n",
       "      <td>50.04</td>\n",
       "      <td>MTS</td>\n",
       "      <td>SONAMASOORI NON BASMATI RICE PKD IN 18 K G PP BAG</td>\n",
       "      <td>Jebel Ali</td>\n",
       "      <td>Mundra SEA (INMUN1)</td>\n",
       "    </tr>\n",
       "    <tr>\n",
       "      <th>1</th>\n",
       "      <td>2018-01-30 03:00:00</td>\n",
       "      <td>10063090</td>\n",
       "      <td>Rice Excptg Parboiled (Excl Basmati Rice)</td>\n",
       "      <td>FINE WAY INTERNATIONAL TRADING LLC.</td>\n",
       "      <td>United Arab Emirates</td>\n",
       "      <td>United Arab Emirates</td>\n",
       "      <td>SRI RAMA MODERN &amp; PARA BOILED RICE MILL</td>\n",
       "      <td>SARANGAPUR VILLAGENIZAMABAD.   ,ANDHRA PRADESH...</td>\n",
       "      <td>India</td>\n",
       "      <td>25945.92</td>\n",
       "      <td>USD</td>\n",
       "      <td>48.05</td>\n",
       "      <td>MTS</td>\n",
       "      <td>SONA MASURI RICE NON BASMATI RICE 1320 N ON WO...</td>\n",
       "      <td>Jebel Ali</td>\n",
       "      <td>Mundra SEA (INMUN1)</td>\n",
       "    </tr>\n",
       "  </tbody>\n",
       "</table>\n",
       "</div>"
      ],
      "text/plain": [
       "         ARRIVAL DATE   HS CODE                        HS CODE DESCRIPTION  \\\n",
       "0 2018-01-30 03:00:00  10063090  Rice Excptg Parboiled (Excl Basmati Rice)   \n",
       "1 2018-01-30 03:00:00  10063090  Rice Excptg Parboiled (Excl Basmati Rice)   \n",
       "\n",
       "                         IMPORTER NAME      IMPORTER COUNTRY  \\\n",
       "0                 WALQ GENERAL TRADING  United Arab Emirates   \n",
       "1  FINE WAY INTERNATIONAL TRADING LLC.  United Arab Emirates   \n",
       "\n",
       "             CITY STATE                             EXPORTER NAME  \\\n",
       "0  United Arab Emirates  SCM AGROTECH ENTERPRISES PRIVATE LIMITED   \n",
       "1  United Arab Emirates   SRI RAMA MODERN & PARA BOILED RICE MILL   \n",
       "\n",
       "                                    EXPORTER ADDRESS COUNTRY OF ORIGIN  \\\n",
       "0  165&166A,ZONE1-M.P NAGAR,   ,BHOPAL,MADHYA PRA...             India   \n",
       "1  SARANGAPUR VILLAGENIZAMABAD.   ,ANDHRA PRADESH...             India   \n",
       "\n",
       "   IMPORT VALUE FOB CURRENCY  QUANTITY QUANTITY UNIT  \\\n",
       "0          25970.76      USD     50.04           MTS   \n",
       "1          25945.92      USD     48.05           MTS   \n",
       "\n",
       "                                     PRODUCT DETAILS PORT OF ARRIVAL  \\\n",
       "0  SONAMASOORI NON BASMATI RICE PKD IN 18 K G PP BAG       Jebel Ali   \n",
       "1  SONA MASURI RICE NON BASMATI RICE 1320 N ON WO...       Jebel Ali   \n",
       "\n",
       "     PORT OF DEPARTURE  \n",
       "0  Mundra SEA (INMUN1)  \n",
       "1  Mundra SEA (INMUN1)  "
      ]
     },
     "execution_count": 13,
     "metadata": {},
     "output_type": "execute_result"
    }
   ],
   "source": [
    "df = finaldf[['ARRIVAL DATE','HS CODE','HS CODE DESCRIPTION','IMPORTER NAME','IMPORTER COUNTRY','CITY STATE','EXPORTER NAME','EXPORTER ADDRESS'\t,'COUNTRY OF ORIGIN','IMPORT VALUE FOB','CURRENCY','QUANTITY','QUANTITY UNIT','PRODUCT DETAILS'\t,'PORT OF ARRIVAL',\t'PORT OF DEPARTURE']]\n",
    "df.head(2) # Only selecting those Attributes which are not null and Important for Data analization ."
   ]
  },
  {
   "cell_type": "code",
   "execution_count": 14,
   "metadata": {},
   "outputs": [
    {
     "name": "stderr",
     "output_type": "stream",
     "text": [
      "C:\\Users\\Vaishali Tomar\\AppData\\Local\\Temp\\ipykernel_6804\\4160054199.py:1: SettingWithCopyWarning: \n",
      "A value is trying to be set on a copy of a slice from a DataFrame\n",
      "\n",
      "See the caveats in the documentation: https://pandas.pydata.org/pandas-docs/stable/user_guide/indexing.html#returning-a-view-versus-a-copy\n",
      "  df.drop_duplicates(keep=False,inplace=True)  # droping Duplicate rows\n"
     ]
    }
   ],
   "source": [
    "df.drop_duplicates(keep=False,inplace=True)  # droping Duplicate rows"
   ]
  },
  {
   "cell_type": "code",
   "execution_count": 302,
   "metadata": {},
   "outputs": [],
   "source": [
    "\n",
    "from forex_python.converter import CurrencyRates # importing currencynconverter \n",
    "c = CurrencyRates()  "
   ]
  },
  {
   "cell_type": "code",
   "execution_count": 15,
   "metadata": {},
   "outputs": [],
   "source": [
    "# Dictionary of all the different currencies with respect to \"USD\".\n",
    "Curr_rates = {\n",
    "'EUR': 0.9100837277029487,'JPY': 128.4310156534401,'BGN': 1.779941754641427,'CZK': 21.668183472879505,'DKK': 6.770385875500546,'GBP': 0.8126046596286858,\n",
    "'HUF': 352.3844193665817,'PLN': 4.278758645795413,'RON': 4.461685475063706,'SEK': 10.337368037859484,'CHF': 0.9093556607207863,'ISK': 139.69785220240263,\n",
    "'NOK': 9.96860211139425,'TRY': 18.817437204222788,'AUD': 1.402165999271933,'BRL': 4.992628321805606,'CAD': 1.3289042591918456,'CNY': 6.7235165635238445,'HKD': 7.843374590462322,\n",
    "'IDR': 14889.597742992355,'INR': 82.18192573716783,'KRW': 1224.8816891153988,'MXN': 18.570258463778668,'MYR': 4.245995631598107,'NZD': 1.53394612304332,\n",
    "'PHP': 53.84965416818348,'SGD': 1.3061521659992719,'THB': 32.790316709137244,'ZAR': 17.022752093192572,'MTS':.016,'KES':124.75,'AED':3.67,\n",
    "'LKR':364,'MZN':63.83,'XOF':600,'MDL':18.77,'QAR':3.64,'KWD':.31,'GHS':12.35,'NGN':460.54,'UGX':3683,'GHC':12.25,'RUR':70.65,\n",
    "'UAH':36.93,'TZS':2339,'ETB':53.68,'FJD':2.17,'RUB':70.65,'KZT':458.03,'SAR':3.75\n",
    " }"
   ]
  },
  {
   "cell_type": "code",
   "execution_count": 16,
   "metadata": {},
   "outputs": [
    {
     "name": "stderr",
     "output_type": "stream",
     "text": [
      "C:\\Users\\Vaishali Tomar\\AppData\\Local\\Temp\\ipykernel_6804\\2706662799.py:12: SettingWithCopyWarning: \n",
      "A value is trying to be set on a copy of a slice from a DataFrame.\n",
      "Try using .loc[row_indexer,col_indexer] = value instead\n",
      "\n",
      "See the caveats in the documentation: https://pandas.pydata.org/pandas-docs/stable/user_guide/indexing.html#returning-a-view-versus-a-copy\n",
      "  df['IMPORT VALUE FOB IN USD'] = col # Adding column to DataFrame\n"
     ]
    }
   ],
   "source": [
    "# Converting All the currencies in \"USD\" (US Dollar)  \n",
    "col = [] \n",
    "for i in df.index:\n",
    "    Key = df.iloc[i]['CURRENCY']  # diff currency in \"CURRENCY\" COLUMN in a loop.\n",
    "\n",
    "    if Key in Curr_rates.keys(): # checking if that currency in \"Curr_rates\" dictionary.\n",
    "    \n",
    "        col.append(df.iloc[i]['IMPORT VALUE FOB']//Curr_rates[Key])  # converting All the amount in \"IMPORT VALUE FOB\" to \"USD\" and appending them\n",
    "    else:\n",
    "        col.append(1*df.iloc[i]['IMPORT VALUE FOB'])  # Else condition for those which are already in \"USD\" and appending them\n",
    "\n",
    "df['IMPORT VALUE FOB IN USD'] = col # Adding column to DataFrame"
   ]
  },
  {
   "cell_type": "code",
   "execution_count": 17,
   "metadata": {},
   "outputs": [],
   "source": [
    "# Converting All the Quantity in one single unit \"kg\".\n",
    "\n",
    "quantity_dict={'kg':1,'KGS':1,'KG': 1,'Kg':1,'MTS':1000, 'BAG': 43,'NOS': 0.10197, 'PCS': 1.66, 'KGM': 1,'CTN': 10,'BAG': 42.637, 'TON':1000,\n",
    "            'KILOGRAMOS NETOS':1000,'Kgm':1, 'KILOGRAMMES':1,'QTL':100,'kilos':1,'BG':43,'Net kg':1, 'LOT':0.0127,'Kilogram':1,'CRT':0.0002,\n",
    "             'SET':6.4, 'Kilogramos':1, 'Tonelada': 1000, 'BGS':43, 'TONS':1000,'LBS': 0.454, 'GMS': 0.001, 'Kilo':1, 'TBN':907.18, 'BX':0.13,\n",
    "             'PK':1, 'CT':0.0002, 'NET KG':1, 'PD':0.454, 'TONELADA':1000, 'Toneladas':1000, 'SA':3.24, 'TNE': 1000, 'BAGS': 43, 'LTR': 0.92,\n",
    "             'KILOGRAMO BRUTO': 1, 'DRM': 0.468, 'KLR': 0.92, 'UNK': 1016, 'KILOS': 1, 'KILOGRAM': 1, 'KGA':1, 'CTM': 0.0002, 'Kg.': 1, \n",
    "              'Tons': 1000, 'KILO': 1, 'KILOGRAMO': 1\n",
    "              } # dictionary of values of quantity with respect to \"one Kg\"."
   ]
  },
  {
   "cell_type": "code",
   "execution_count": 18,
   "metadata": {},
   "outputs": [
    {
     "name": "stderr",
     "output_type": "stream",
     "text": [
      "C:\\Users\\Vaishali Tomar\\AppData\\Local\\Temp\\ipykernel_6804\\1848554293.py:13: SettingWithCopyWarning: \n",
      "A value is trying to be set on a copy of a slice from a DataFrame.\n",
      "Try using .loc[row_indexer,col_indexer] = value instead\n",
      "\n",
      "See the caveats in the documentation: https://pandas.pydata.org/pandas-docs/stable/user_guide/indexing.html#returning-a-view-versus-a-copy\n",
      "  df['quantity_in_kg'] = quant # Adding column to DataFrame\n"
     ]
    }
   ],
   "source": [
    "# converting   Quantity unit to one (Kg).\n",
    "quant = []\n",
    "for i in df.index:\n",
    "    Key = df.iloc[i]['QUANTITY UNIT'] # diff UNIT in \"QUANTITY UNIT\" column as key.\n",
    "\n",
    "    if Key in quantity_dict.keys(): # Checking if key is in \"quantity_dict\" Dictionary.\n",
    "\n",
    "        quant.append(quantity_dict[Key]*df.iloc[i]['QUANTITY'])  # converting UNIT in \"QUANTITY UNIT\" column and appending it in \"quant\"\n",
    "    else:\n",
    "\n",
    "        quant.append(df.iloc[i]['QUANTITY'])\n",
    "\n",
    "df['quantity_in_kg'] = quant # Adding column to DataFrame"
   ]
  },
  {
   "attachments": {},
   "cell_type": "markdown",
   "metadata": {},
   "source": [
    "#### This is the code which I have written to convert all \"currency\" according to given time and date but as the rows are more than 4 lakh it is taking nearly 10 hour to run.\n",
    "\n",
    "\n",
    "\n",
    "\n",
    "import numpy as np\n",
    "\n",
    "Amount = []\n",
    "\n",
    "for i in df.index:\n",
    "\n",
    "    amount= df['IMPORT VALUE FOB'][i-1:i,].max()\n",
    "    curr = df['CURRENCY'][i-1:i,].max()\n",
    "\n",
    "    date = pd.to_datetime(df['ARRIVAL DATE'][i-1:i,].max())\n",
    "\n",
    "    try:\n",
    "        Amount.append((c.convert(curr,'USD',amount,date)))  ## converting currency  with time to usd \n",
    "\n",
    "    except:\n",
    "        Amount.append(np.nan)"
   ]
  },
  {
   "attachments": {},
   "cell_type": "markdown",
   "metadata": {},
   "source": [
    "# Driven Insights from data"
   ]
  },
  {
   "attachments": {},
   "cell_type": "markdown",
   "metadata": {},
   "source": [
    "####  Insight1 -  The top exporters in the last 5 years with the location they export to, total quantity exported, any other relevant data point you feel will be helpful\n"
   ]
  },
  {
   "cell_type": "code",
   "execution_count": 127,
   "metadata": {},
   "outputs": [
    {
     "name": "stderr",
     "output_type": "stream",
     "text": [
      "C:\\Users\\Vaishali Tomar\\AppData\\Local\\Temp\\ipykernel_6804\\140627601.py:1: SettingWithCopyWarning: \n",
      "A value is trying to be set on a copy of a slice from a DataFrame.\n",
      "Try using .loc[row_indexer,col_indexer] = value instead\n",
      "\n",
      "See the caveats in the documentation: https://pandas.pydata.org/pandas-docs/stable/user_guide/indexing.html#returning-a-view-versus-a-copy\n",
      "  df['quantity_in_tonne'] = df['quantity_in_kg']//1000 # converting kg to ton\n",
      "C:\\Users\\Vaishali Tomar\\AppData\\Local\\Temp\\ipykernel_6804\\140627601.py:3: SettingWithCopyWarning: \n",
      "A value is trying to be set on a copy of a slice from a DataFrame.\n",
      "Try using .loc[row_indexer,col_indexer] = value instead\n",
      "\n",
      "See the caveats in the documentation: https://pandas.pydata.org/pandas-docs/stable/user_guide/indexing.html#returning-a-view-versus-a-copy\n",
      "  df['IMPORT VALUE FOB IN USD IN MILLION$'] = df['IMPORT VALUE FOB IN USD']//1000000\n"
     ]
    }
   ],
   "source": [
    "df['quantity_in_tonne'] = df['quantity_in_kg']//1000 # converting kg to ton\n",
    "\n",
    "df['IMPORT VALUE FOB IN USD IN MILLION$'] = df['IMPORT VALUE FOB IN USD']//1000000"
   ]
  },
  {
   "cell_type": "code",
   "execution_count": 160,
   "metadata": {},
   "outputs": [
    {
     "data": {
      "text/html": [
       "<div>\n",
       "<style scoped>\n",
       "    .dataframe tbody tr th:only-of-type {\n",
       "        vertical-align: middle;\n",
       "    }\n",
       "\n",
       "    .dataframe tbody tr th {\n",
       "        vertical-align: top;\n",
       "    }\n",
       "\n",
       "    .dataframe thead th {\n",
       "        text-align: right;\n",
       "    }\n",
       "</style>\n",
       "<table border=\"1\" class=\"dataframe\">\n",
       "  <thead>\n",
       "    <tr style=\"text-align: right;\">\n",
       "      <th></th>\n",
       "      <th>EXPORTER NAME</th>\n",
       "      <th>IMPORTER COUNTRY</th>\n",
       "      <th>quantity_in_tonne</th>\n",
       "      <th>IMPORT VALUE FOB IN USD IN MILLION$</th>\n",
       "    </tr>\n",
       "  </thead>\n",
       "  <tbody>\n",
       "    <tr>\n",
       "      <th>0</th>\n",
       "      <td>RAJESH TRADING CO</td>\n",
       "      <td>Bhutan</td>\n",
       "      <td>300132.0</td>\n",
       "      <td>298.0</td>\n",
       "    </tr>\n",
       "    <tr>\n",
       "      <th>1</th>\n",
       "      <td>L.T.FOODS  LTD</td>\n",
       "      <td>United Arab Emirates</td>\n",
       "      <td>17199.0</td>\n",
       "      <td>270.0</td>\n",
       "    </tr>\n",
       "    <tr>\n",
       "      <th>2</th>\n",
       "      <td>NAVYAA FOODS</td>\n",
       "      <td>Egypt</td>\n",
       "      <td>7303.0</td>\n",
       "      <td>270.0</td>\n",
       "    </tr>\n",
       "    <tr>\n",
       "      <th>3</th>\n",
       "      <td>SAKTHI EXPORTERS</td>\n",
       "      <td>Singapore</td>\n",
       "      <td>36460.0</td>\n",
       "      <td>268.0</td>\n",
       "    </tr>\n",
       "    <tr>\n",
       "      <th>4</th>\n",
       "      <td>R S RICE MILLS</td>\n",
       "      <td>United States</td>\n",
       "      <td>33244.0</td>\n",
       "      <td>267.0</td>\n",
       "    </tr>\n",
       "  </tbody>\n",
       "</table>\n",
       "</div>"
      ],
      "text/plain": [
       "       EXPORTER NAME      IMPORTER COUNTRY  quantity_in_tonne  \\\n",
       "0  RAJESH TRADING CO                Bhutan           300132.0   \n",
       "1     L.T.FOODS  LTD  United Arab Emirates            17199.0   \n",
       "2       NAVYAA FOODS                 Egypt             7303.0   \n",
       "3   SAKTHI EXPORTERS             Singapore            36460.0   \n",
       "4     R S RICE MILLS         United States            33244.0   \n",
       "\n",
       "   IMPORT VALUE FOB IN USD IN MILLION$  \n",
       "0                                298.0  \n",
       "1                                270.0  \n",
       "2                                270.0  \n",
       "3                                268.0  \n",
       "4                                267.0  "
      ]
     },
     "execution_count": 160,
     "metadata": {},
     "output_type": "execute_result"
    }
   ],
   "source": [
    "# With Respect to FOB value\n",
    "dg = df[['EXPORTER NAME','IMPORTER COUNTRY','quantity_in_tonne','IMPORT VALUE FOB IN USD IN MILLION$']]  # filtring table \n",
    "\n",
    "# top five\n",
    "# group by 'EXPORTER NAME','IMPORTER COUNTRY' and ascending sum('IMPORT VALUE FOB IN USD') in descending order\n",
    "dg = dg.groupby(['EXPORTER NAME','IMPORTER COUNTRY']).aggregate({'quantity_in_tonne':'sum','IMPORT VALUE FOB IN USD IN MILLION$':'sum'}).sort_values(by=['IMPORT VALUE FOB IN USD IN MILLION$'], ascending = [False]).reset_index().head(5)\n",
    "dg"
   ]
  },
  {
   "attachments": {},
   "cell_type": "markdown",
   "metadata": {},
   "source": [
    "#### Insight2 - The top importers and country "
   ]
  },
  {
   "cell_type": "code",
   "execution_count": 139,
   "metadata": {},
   "outputs": [
    {
     "data": {
      "text/html": [
       "<div>\n",
       "<style scoped>\n",
       "    .dataframe tbody tr th:only-of-type {\n",
       "        vertical-align: middle;\n",
       "    }\n",
       "\n",
       "    .dataframe tbody tr th {\n",
       "        vertical-align: top;\n",
       "    }\n",
       "\n",
       "    .dataframe thead th {\n",
       "        text-align: right;\n",
       "    }\n",
       "</style>\n",
       "<table border=\"1\" class=\"dataframe\">\n",
       "  <thead>\n",
       "    <tr style=\"text-align: right;\">\n",
       "      <th></th>\n",
       "      <th></th>\n",
       "      <th>quantity_in_tonne</th>\n",
       "      <th>IMPORT VALUE FOB IN USD IN MILLION$</th>\n",
       "    </tr>\n",
       "    <tr>\n",
       "      <th>IMPORTER NAME</th>\n",
       "      <th>IMPORTER COUNTRY</th>\n",
       "      <th></th>\n",
       "      <th></th>\n",
       "    </tr>\n",
       "  </thead>\n",
       "  <tbody>\n",
       "    <tr>\n",
       "      <th>LT FOODS MIDDLE EAST DMCC.</th>\n",
       "      <th>United Arab Emirates</th>\n",
       "      <td>24992.0</td>\n",
       "      <td>270.0</td>\n",
       "    </tr>\n",
       "    <tr>\n",
       "      <th>KHOR BARKA TRADING ENTERPRISES</th>\n",
       "      <th>Egypt</th>\n",
       "      <td>5364.0</td>\n",
       "      <td>270.0</td>\n",
       "    </tr>\n",
       "    <tr>\n",
       "      <th>ALLIANCE DIVINE IMPEX PTE.LTD.</th>\n",
       "      <th>Singapore</th>\n",
       "      <td>64578.0</td>\n",
       "      <td>268.0</td>\n",
       "    </tr>\n",
       "    <tr>\n",
       "      <th>HOUSE OF SPICES OF INDIA, INC.</th>\n",
       "      <th>United States</th>\n",
       "      <td>215763.0</td>\n",
       "      <td>188.0</td>\n",
       "    </tr>\n",
       "    <tr>\n",
       "      <th>FYVE ELEMENTS LLC.</th>\n",
       "      <th>United States</th>\n",
       "      <td>125943.0</td>\n",
       "      <td>185.0</td>\n",
       "    </tr>\n",
       "  </tbody>\n",
       "</table>\n",
       "</div>"
      ],
      "text/plain": [
       "                                                     quantity_in_tonne  \\\n",
       "IMPORTER NAME                  IMPORTER COUNTRY                          \n",
       "LT FOODS MIDDLE EAST DMCC.     United Arab Emirates            24992.0   \n",
       "KHOR BARKA TRADING ENTERPRISES Egypt                            5364.0   \n",
       "ALLIANCE DIVINE IMPEX PTE.LTD. Singapore                       64578.0   \n",
       "HOUSE OF SPICES OF INDIA, INC. United States                  215763.0   \n",
       "FYVE ELEMENTS LLC.             United States                  125943.0   \n",
       "\n",
       "                                                     IMPORT VALUE FOB IN USD IN MILLION$  \n",
       "IMPORTER NAME                  IMPORTER COUNTRY                                           \n",
       "LT FOODS MIDDLE EAST DMCC.     United Arab Emirates                                270.0  \n",
       "KHOR BARKA TRADING ENTERPRISES Egypt                                               270.0  \n",
       "ALLIANCE DIVINE IMPEX PTE.LTD. Singapore                                           268.0  \n",
       "HOUSE OF SPICES OF INDIA, INC. United States                                       188.0  \n",
       "FYVE ELEMENTS LLC.             United States                                       185.0  "
      ]
     },
     "execution_count": 139,
     "metadata": {},
     "output_type": "execute_result"
    }
   ],
   "source": [
    "# With Respect to FOB value top 5 \n",
    "dg = df[['IMPORTER NAME','IMPORTER COUNTRY','quantity_in_tonne','IMPORT VALUE FOB IN USD IN MILLION$']]  # filtring table \n",
    "\n",
    "# top five\n",
    "# group by 'IMPORTER NAME','IMPORTER COUNTRY' and ascending sum('IMPORT VALUE FOB IN USD') in descending order\n",
    "dg.groupby(['IMPORTER NAME','IMPORTER COUNTRY']).aggregate({'quantity_in_tonne':'sum','IMPORT VALUE FOB IN USD IN MILLION$':'sum'}).sort_values(by=['IMPORT VALUE FOB IN USD IN MILLION$'], ascending = [False]).head(5)\n",
    "\n"
   ]
  },
  {
   "attachments": {},
   "cell_type": "markdown",
   "metadata": {},
   "source": [
    "#### Insight3 - The top port's for rice exports"
   ]
  },
  {
   "cell_type": "code",
   "execution_count": 140,
   "metadata": {},
   "outputs": [
    {
     "data": {
      "text/html": [
       "<div>\n",
       "<style scoped>\n",
       "    .dataframe tbody tr th:only-of-type {\n",
       "        vertical-align: middle;\n",
       "    }\n",
       "\n",
       "    .dataframe tbody tr th {\n",
       "        vertical-align: top;\n",
       "    }\n",
       "\n",
       "    .dataframe thead th {\n",
       "        text-align: right;\n",
       "    }\n",
       "</style>\n",
       "<table border=\"1\" class=\"dataframe\">\n",
       "  <thead>\n",
       "    <tr style=\"text-align: right;\">\n",
       "      <th></th>\n",
       "      <th>quantity_in_tonne</th>\n",
       "    </tr>\n",
       "    <tr>\n",
       "      <th>PORT OF DEPARTURE</th>\n",
       "      <th></th>\n",
       "    </tr>\n",
       "  </thead>\n",
       "  <tbody>\n",
       "    <tr>\n",
       "      <th>MUNDRA SEA (INMUN1)</th>\n",
       "      <td>5592837.0</td>\n",
       "    </tr>\n",
       "    <tr>\n",
       "      <th>COCHIN SEA (INCOK1)</th>\n",
       "      <td>2658562.0</td>\n",
       "    </tr>\n",
       "    <tr>\n",
       "      <th>NHAVA SHEVA SEA (INNSA1)</th>\n",
       "      <td>1628375.0</td>\n",
       "    </tr>\n",
       "    <tr>\n",
       "      <th>LCS JAIGAON (INJIGB)</th>\n",
       "      <td>1495052.0</td>\n",
       "    </tr>\n",
       "    <tr>\n",
       "      <th>CHENNAI SEA (INMAA1)</th>\n",
       "      <td>1370135.0</td>\n",
       "    </tr>\n",
       "  </tbody>\n",
       "</table>\n",
       "</div>"
      ],
      "text/plain": [
       "                          quantity_in_tonne\n",
       "PORT OF DEPARTURE                          \n",
       "MUNDRA SEA (INMUN1)               5592837.0\n",
       "COCHIN SEA (INCOK1)               2658562.0\n",
       "NHAVA SHEVA SEA (INNSA1)          1628375.0\n",
       "LCS JAIGAON (INJIGB)              1495052.0\n",
       "CHENNAI SEA (INMAA1)              1370135.0"
      ]
     },
     "execution_count": 140,
     "metadata": {},
     "output_type": "execute_result"
    }
   ],
   "source": [
    "# With Respect to Quantity, top five ports\n",
    "dg = df[['PORT OF DEPARTURE','quantity_in_tonne']]  # filtring table \n",
    "\n",
    "# group by 'PORT OF DEPARTURE' and ascending sum('quantity_in_kg') in descending order\n",
    "dg[['PORT OF DEPARTURE','quantity_in_tonne']].groupby(['PORT OF DEPARTURE']).aggregate({'quantity_in_tonne':'sum'}).sort_values(by=['quantity_in_tonne'], ascending = [False]).head(5)"
   ]
  },
  {
   "cell_type": "code",
   "execution_count": 141,
   "metadata": {},
   "outputs": [
    {
     "data": {
      "text/html": [
       "<div>\n",
       "<style scoped>\n",
       "    .dataframe tbody tr th:only-of-type {\n",
       "        vertical-align: middle;\n",
       "    }\n",
       "\n",
       "    .dataframe tbody tr th {\n",
       "        vertical-align: top;\n",
       "    }\n",
       "\n",
       "    .dataframe thead th {\n",
       "        text-align: right;\n",
       "    }\n",
       "</style>\n",
       "<table border=\"1\" class=\"dataframe\">\n",
       "  <thead>\n",
       "    <tr style=\"text-align: right;\">\n",
       "      <th></th>\n",
       "      <th>IMPORT VALUE FOB IN USD IN MILLION$</th>\n",
       "    </tr>\n",
       "    <tr>\n",
       "      <th>PORT OF DEPARTURE</th>\n",
       "      <th></th>\n",
       "    </tr>\n",
       "  </thead>\n",
       "  <tbody>\n",
       "    <tr>\n",
       "      <th>MUNDRA SEA (INMUN1)</th>\n",
       "      <td>4139.0</td>\n",
       "    </tr>\n",
       "    <tr>\n",
       "      <th>NHAVA SHEVA SEA (INNSA1)</th>\n",
       "      <td>1153.0</td>\n",
       "    </tr>\n",
       "    <tr>\n",
       "      <th>COCHIN SEA (INCOK1)</th>\n",
       "      <td>957.0</td>\n",
       "    </tr>\n",
       "    <tr>\n",
       "      <th>SONEPAT ICD (INBDM6)</th>\n",
       "      <td>888.0</td>\n",
       "    </tr>\n",
       "    <tr>\n",
       "      <th>Mundra SEA (INMUN1)</th>\n",
       "      <td>866.0</td>\n",
       "    </tr>\n",
       "  </tbody>\n",
       "</table>\n",
       "</div>"
      ],
      "text/plain": [
       "                          IMPORT VALUE FOB IN USD IN MILLION$\n",
       "PORT OF DEPARTURE                                            \n",
       "MUNDRA SEA (INMUN1)                                    4139.0\n",
       "NHAVA SHEVA SEA (INNSA1)                               1153.0\n",
       "COCHIN SEA (INCOK1)                                     957.0\n",
       "SONEPAT ICD (INBDM6)                                    888.0\n",
       "Mundra SEA (INMUN1)                                     866.0"
      ]
     },
     "execution_count": 141,
     "metadata": {},
     "output_type": "execute_result"
    }
   ],
   "source": [
    "# With Respect to FOB value, top five ports\n",
    "dg = df[['PORT OF DEPARTURE','IMPORT VALUE FOB IN USD IN MILLION$']]  # filtring table \n",
    "\n",
    "# group by 'PORT OF DEPARTURE' and ascending sum('IMPORT VALUE FOB IN USD') in descending order\n",
    "dg.groupby(['PORT OF DEPARTURE']).aggregate({'IMPORT VALUE FOB IN USD IN MILLION$':'sum'}).sort_values(by=['IMPORT VALUE FOB IN USD IN MILLION$'], ascending = [False]).head(5)"
   ]
  },
  {
   "attachments": {},
   "cell_type": "markdown",
   "metadata": {},
   "source": [
    "#### Insight - 4 The trend of rice exporters over time"
   ]
  },
  {
   "cell_type": "code",
   "execution_count": 24,
   "metadata": {},
   "outputs": [
    {
     "name": "stderr",
     "output_type": "stream",
     "text": [
      "C:\\Users\\Vaishali Tomar\\AppData\\Local\\Temp\\ipykernel_6804\\1871009013.py:3: SettingWithCopyWarning: \n",
      "A value is trying to be set on a copy of a slice from a DataFrame.\n",
      "Try using .loc[row_indexer,col_indexer] = value instead\n",
      "\n",
      "See the caveats in the documentation: https://pandas.pydata.org/pandas-docs/stable/user_guide/indexing.html#returning-a-view-versus-a-copy\n",
      "  df['Year'] = df['ARRIVAL DATE'].dt.year # adding attribute of \"Year\"\n"
     ]
    },
    {
     "data": {
      "text/html": [
       "<div>\n",
       "<style scoped>\n",
       "    .dataframe tbody tr th:only-of-type {\n",
       "        vertical-align: middle;\n",
       "    }\n",
       "\n",
       "    .dataframe tbody tr th {\n",
       "        vertical-align: top;\n",
       "    }\n",
       "\n",
       "    .dataframe thead th {\n",
       "        text-align: right;\n",
       "    }\n",
       "</style>\n",
       "<table border=\"1\" class=\"dataframe\">\n",
       "  <thead>\n",
       "    <tr style=\"text-align: right;\">\n",
       "      <th></th>\n",
       "      <th>Year</th>\n",
       "      <th>EXPORTER NAME_COUNT</th>\n",
       "    </tr>\n",
       "  </thead>\n",
       "  <tbody>\n",
       "    <tr>\n",
       "      <th>0</th>\n",
       "      <td>2018</td>\n",
       "      <td>3045</td>\n",
       "    </tr>\n",
       "    <tr>\n",
       "      <th>1</th>\n",
       "      <td>2019</td>\n",
       "      <td>2767</td>\n",
       "    </tr>\n",
       "    <tr>\n",
       "      <th>2</th>\n",
       "      <td>2020</td>\n",
       "      <td>3490</td>\n",
       "    </tr>\n",
       "    <tr>\n",
       "      <th>3</th>\n",
       "      <td>2021</td>\n",
       "      <td>5768</td>\n",
       "    </tr>\n",
       "    <tr>\n",
       "      <th>4</th>\n",
       "      <td>2022</td>\n",
       "      <td>4220</td>\n",
       "    </tr>\n",
       "  </tbody>\n",
       "</table>\n",
       "</div>"
      ],
      "text/plain": [
       "   Year  EXPORTER NAME_COUNT\n",
       "0  2018                 3045\n",
       "1  2019                 2767\n",
       "2  2020                 3490\n",
       "3  2021                 5768\n",
       "4  2022                 4220"
      ]
     },
     "execution_count": 24,
     "metadata": {},
     "output_type": "execute_result"
    }
   ],
   "source": [
    "##  trend of number of exporter per year.\n",
    "\n",
    "df['Year'] = df['ARRIVAL DATE'].dt.year # adding attribute of \"Year\"\n",
    "\n",
    "dg = df[['Year','EXPORTER NAME']].groupby('Year') # group by \"year\"\n",
    "\n",
    "dg = dg.nunique().add_suffix('_COUNT').reset_index() # count of unique exporter every year\n",
    "dg"
   ]
  },
  {
   "cell_type": "code",
   "execution_count": 25,
   "metadata": {},
   "outputs": [
    {
     "data": {
      "text/plain": [
       "<AxesSubplot:xlabel='Year'>"
      ]
     },
     "execution_count": 25,
     "metadata": {},
     "output_type": "execute_result"
    },
    {
     "data": {
      "image/png": "[encoded data removed]",
      "text/plain": [
       "<Figure size 432x288 with 1 Axes>"
      ]
     },
     "metadata": {
      "needs_background": "light"
     },
     "output_type": "display_data"
    }
   ],
   "source": [
    "dg.plot(x='Year', y = 'EXPORTER NAME_COUNT')"
   ]
  },
  {
   "cell_type": "code",
   "execution_count": 130,
   "metadata": {},
   "outputs": [
    {
     "name": "stderr",
     "output_type": "stream",
     "text": [
      "C:\\Users\\Vaishali Tomar\\AppData\\Local\\Temp\\ipykernel_6804\\3796021176.py:2: SettingWithCopyWarning: \n",
      "A value is trying to be set on a copy of a slice from a DataFrame.\n",
      "Try using .loc[row_indexer,col_indexer] = value instead\n",
      "\n",
      "See the caveats in the documentation: https://pandas.pydata.org/pandas-docs/stable/user_guide/indexing.html#returning-a-view-versus-a-copy\n",
      "  df['Year'] = df['ARRIVAL DATE'].dt.year # adding attribute of \"Year\"\n"
     ]
    },
    {
     "data": {
      "text/html": [
       "<div>\n",
       "<style scoped>\n",
       "    .dataframe tbody tr th:only-of-type {\n",
       "        vertical-align: middle;\n",
       "    }\n",
       "\n",
       "    .dataframe tbody tr th {\n",
       "        vertical-align: top;\n",
       "    }\n",
       "\n",
       "    .dataframe thead th {\n",
       "        text-align: right;\n",
       "    }\n",
       "</style>\n",
       "<table border=\"1\" class=\"dataframe\">\n",
       "  <thead>\n",
       "    <tr style=\"text-align: right;\">\n",
       "      <th></th>\n",
       "      <th>Year</th>\n",
       "      <th>IMPORT VALUE FOB IN USD IN MILLION$</th>\n",
       "    </tr>\n",
       "  </thead>\n",
       "  <tbody>\n",
       "    <tr>\n",
       "      <th>0</th>\n",
       "      <td>2018</td>\n",
       "      <td>3516.0</td>\n",
       "    </tr>\n",
       "    <tr>\n",
       "      <th>1</th>\n",
       "      <td>2019</td>\n",
       "      <td>3150.0</td>\n",
       "    </tr>\n",
       "    <tr>\n",
       "      <th>2</th>\n",
       "      <td>2020</td>\n",
       "      <td>4662.0</td>\n",
       "    </tr>\n",
       "    <tr>\n",
       "      <th>3</th>\n",
       "      <td>2021</td>\n",
       "      <td>5252.0</td>\n",
       "    </tr>\n",
       "    <tr>\n",
       "      <th>4</th>\n",
       "      <td>2022</td>\n",
       "      <td>4656.0</td>\n",
       "    </tr>\n",
       "  </tbody>\n",
       "</table>\n",
       "</div>"
      ],
      "text/plain": [
       "   Year  IMPORT VALUE FOB IN USD IN MILLION$\n",
       "0  2018                               3516.0\n",
       "1  2019                               3150.0\n",
       "2  2020                               4662.0\n",
       "3  2021                               5252.0\n",
       "4  2022                               4656.0"
      ]
     },
     "execution_count": 130,
     "metadata": {},
     "output_type": "execute_result"
    }
   ],
   "source": [
    "##  trend of Total FOB value  per year.\n",
    "df['Year'] = df['ARRIVAL DATE'].dt.year # adding attribute of \"Year\"\n",
    "\n",
    "dg = df[['Year','IMPORT VALUE FOB IN USD IN MILLION$']].groupby('Year') # group by \"year\"\n",
    "\n",
    "dg = dg.sum().reset_index() # count of unique exporter every year\n",
    "dg"
   ]
  },
  {
   "cell_type": "code",
   "execution_count": 131,
   "metadata": {},
   "outputs": [
    {
     "data": {
      "text/plain": [
       "<AxesSubplot:xlabel='Year'>"
      ]
     },
     "execution_count": 131,
     "metadata": {},
     "output_type": "execute_result"
    },
    {
     "data": {
      "image/png": "[encoded data removed]",
      "text/plain": [
       "<Figure size 432x288 with 1 Axes>"
      ]
     },
     "metadata": {
      "needs_background": "light"
     },
     "output_type": "display_data"
    }
   ],
   "source": [
    "dg.plot(x='Year', y = 'IMPORT VALUE FOB IN USD IN MILLION$')"
   ]
  },
  {
   "attachments": {},
   "cell_type": "markdown",
   "metadata": {},
   "source": [
    "In both the line graphs value is decreasing feom 2021 to 2022 and that is time when covid 19 is on peak in India."
   ]
  },
  {
   "cell_type": "code",
   "execution_count": null,
   "metadata": {},
   "outputs": [],
   "source": []
  },
  {
   "attachments": {},
   "cell_type": "markdown",
   "metadata": {},
   "source": [
    "#### Insight5 - Top  5 countries "
   ]
  },
  {
   "cell_type": "code",
   "execution_count": 132,
   "metadata": {},
   "outputs": [
    {
     "data": {
      "text/html": [
       "<div>\n",
       "<style scoped>\n",
       "    .dataframe tbody tr th:only-of-type {\n",
       "        vertical-align: middle;\n",
       "    }\n",
       "\n",
       "    .dataframe tbody tr th {\n",
       "        vertical-align: top;\n",
       "    }\n",
       "\n",
       "    .dataframe thead th {\n",
       "        text-align: right;\n",
       "    }\n",
       "</style>\n",
       "<table border=\"1\" class=\"dataframe\">\n",
       "  <thead>\n",
       "    <tr style=\"text-align: right;\">\n",
       "      <th></th>\n",
       "      <th>IMPORT VALUE FOB IN USD IN MILLION$</th>\n",
       "    </tr>\n",
       "    <tr>\n",
       "      <th>IMPORTER COUNTRY</th>\n",
       "      <th></th>\n",
       "    </tr>\n",
       "  </thead>\n",
       "  <tbody>\n",
       "    <tr>\n",
       "      <th>United Arab Emirates</th>\n",
       "      <td>2358.0</td>\n",
       "    </tr>\n",
       "    <tr>\n",
       "      <th>United States</th>\n",
       "      <td>1634.0</td>\n",
       "    </tr>\n",
       "    <tr>\n",
       "      <th>Nepal</th>\n",
       "      <td>1389.0</td>\n",
       "    </tr>\n",
       "    <tr>\n",
       "      <th>Bangladesh</th>\n",
       "      <td>1244.0</td>\n",
       "    </tr>\n",
       "    <tr>\n",
       "      <th>Canada</th>\n",
       "      <td>1124.0</td>\n",
       "    </tr>\n",
       "  </tbody>\n",
       "</table>\n",
       "</div>"
      ],
      "text/plain": [
       "                      IMPORT VALUE FOB IN USD IN MILLION$\n",
       "IMPORTER COUNTRY                                         \n",
       "United Arab Emirates                               2358.0\n",
       "United States                                      1634.0\n",
       "Nepal                                              1389.0\n",
       "Bangladesh                                         1244.0\n",
       "Canada                                             1124.0"
      ]
     },
     "execution_count": 132,
     "metadata": {},
     "output_type": "execute_result"
    }
   ],
   "source": [
    "# Top 5 countries  with respect to \"FOB value\"\n",
    "dg_value = df[['IMPORTER COUNTRY','IMPORT VALUE FOB IN USD IN MILLION$']].groupby('IMPORTER COUNTRY').aggregate({'IMPORT VALUE FOB IN USD IN MILLION$':'sum'}) # group by year aggretion by IMPORT VALUE FOB IN USD'\n",
    "\n",
    "dg_value.sort_values(by='IMPORT VALUE FOB IN USD IN MILLION$', ascending=False).head() # sort in descending order "
   ]
  },
  {
   "cell_type": "code",
   "execution_count": 142,
   "metadata": {},
   "outputs": [
    {
     "data": {
      "text/html": [
       "<div>\n",
       "<style scoped>\n",
       "    .dataframe tbody tr th:only-of-type {\n",
       "        vertical-align: middle;\n",
       "    }\n",
       "\n",
       "    .dataframe tbody tr th {\n",
       "        vertical-align: top;\n",
       "    }\n",
       "\n",
       "    .dataframe thead th {\n",
       "        text-align: right;\n",
       "    }\n",
       "</style>\n",
       "<table border=\"1\" class=\"dataframe\">\n",
       "  <thead>\n",
       "    <tr style=\"text-align: right;\">\n",
       "      <th></th>\n",
       "      <th>quantity_in_tonne</th>\n",
       "    </tr>\n",
       "    <tr>\n",
       "      <th>IMPORTER COUNTRY</th>\n",
       "      <th></th>\n",
       "    </tr>\n",
       "  </thead>\n",
       "  <tbody>\n",
       "    <tr>\n",
       "      <th>Nepal</th>\n",
       "      <td>3602180.0</td>\n",
       "    </tr>\n",
       "    <tr>\n",
       "      <th>United Arab Emirates</th>\n",
       "      <td>3156031.0</td>\n",
       "    </tr>\n",
       "    <tr>\n",
       "      <th>United States</th>\n",
       "      <td>2942499.0</td>\n",
       "    </tr>\n",
       "    <tr>\n",
       "      <th>Bhutan</th>\n",
       "      <td>2234236.0</td>\n",
       "    </tr>\n",
       "    <tr>\n",
       "      <th>Bangladesh</th>\n",
       "      <td>1902978.0</td>\n",
       "    </tr>\n",
       "  </tbody>\n",
       "</table>\n",
       "</div>"
      ],
      "text/plain": [
       "                      quantity_in_tonne\n",
       "IMPORTER COUNTRY                       \n",
       "Nepal                         3602180.0\n",
       "United Arab Emirates          3156031.0\n",
       "United States                 2942499.0\n",
       "Bhutan                        2234236.0\n",
       "Bangladesh                    1902978.0"
      ]
     },
     "execution_count": 142,
     "metadata": {},
     "output_type": "execute_result"
    }
   ],
   "source": [
    "# Top 5 countries with respect to \"quantity\"\n",
    "dg_quantity = df[['IMPORTER COUNTRY','quantity_in_tonne']].groupby('IMPORTER COUNTRY').aggregate({'quantity_in_tonne':'sum'}) # group by year aggretion by 'quantity_in_kg'\n",
    "\n",
    "dg_quantity.sort_values(by='quantity_in_tonne', ascending=False).head() # sort in descending order"
   ]
  },
  {
   "attachments": {},
   "cell_type": "markdown",
   "metadata": {},
   "source": [
    "United Arab Emirates on top in terms of \"FOB Value\" second in terms of \"quantity\"\n",
    "\n",
    "Nepal on top in terms of \"quantity\" second ijn terms of \"FOB value\""
   ]
  },
  {
   "attachments": {},
   "cell_type": "markdown",
   "metadata": {},
   "source": [
    "#### Insight - 6 Top Importer Countries In terms of FOB value Contribution"
   ]
  },
  {
   "cell_type": "code",
   "execution_count": 144,
   "metadata": {},
   "outputs": [],
   "source": [
    "dg = df[['IMPORTER COUNTRY','IMPORT VALUE FOB IN USD IN MILLION$']].groupby('IMPORTER COUNTRY').aggregate({'IMPORT VALUE FOB IN USD IN MILLION$':'sum'}) # group by year aggretion by IMPORT VALUE FOB IN USD'\n",
    "\n",
    "dg = dg.sort_values(by='IMPORT VALUE FOB IN USD IN MILLION$', ascending=False).head(10).reset_index() # sort in descending order\n",
    "\n",
    "dg['Percentage'] = round(dg['IMPORT VALUE FOB IN USD IN MILLION$']/sum(df['IMPORT VALUE FOB IN USD IN MILLION$'])*100,2)  # finding Percentage\n"
   ]
  },
  {
   "cell_type": "code",
   "execution_count": 145,
   "metadata": {},
   "outputs": [
    {
     "data": {
      "text/html": [
       "<div>\n",
       "<style scoped>\n",
       "    .dataframe tbody tr th:only-of-type {\n",
       "        vertical-align: middle;\n",
       "    }\n",
       "\n",
       "    .dataframe tbody tr th {\n",
       "        vertical-align: top;\n",
       "    }\n",
       "\n",
       "    .dataframe thead th {\n",
       "        text-align: right;\n",
       "    }\n",
       "</style>\n",
       "<table border=\"1\" class=\"dataframe\">\n",
       "  <thead>\n",
       "    <tr style=\"text-align: right;\">\n",
       "      <th></th>\n",
       "      <th>IMPORTER COUNTRY</th>\n",
       "      <th>Percentage</th>\n",
       "    </tr>\n",
       "  </thead>\n",
       "  <tbody>\n",
       "    <tr>\n",
       "      <th>0</th>\n",
       "      <td>United Arab Emirates</td>\n",
       "      <td>11.10</td>\n",
       "    </tr>\n",
       "    <tr>\n",
       "      <th>1</th>\n",
       "      <td>United States</td>\n",
       "      <td>7.69</td>\n",
       "    </tr>\n",
       "    <tr>\n",
       "      <th>2</th>\n",
       "      <td>Nepal</td>\n",
       "      <td>6.54</td>\n",
       "    </tr>\n",
       "    <tr>\n",
       "      <th>3</th>\n",
       "      <td>Bangladesh</td>\n",
       "      <td>5.86</td>\n",
       "    </tr>\n",
       "    <tr>\n",
       "      <th>4</th>\n",
       "      <td>Canada</td>\n",
       "      <td>5.29</td>\n",
       "    </tr>\n",
       "    <tr>\n",
       "      <th>5</th>\n",
       "      <td>Bhutan</td>\n",
       "      <td>5.00</td>\n",
       "    </tr>\n",
       "    <tr>\n",
       "      <th>6</th>\n",
       "      <td>Saudi Arabia</td>\n",
       "      <td>3.89</td>\n",
       "    </tr>\n",
       "    <tr>\n",
       "      <th>7</th>\n",
       "      <td>Singapore</td>\n",
       "      <td>3.55</td>\n",
       "    </tr>\n",
       "    <tr>\n",
       "      <th>8</th>\n",
       "      <td>Oman</td>\n",
       "      <td>2.80</td>\n",
       "    </tr>\n",
       "    <tr>\n",
       "      <th>9</th>\n",
       "      <td>Australia</td>\n",
       "      <td>2.74</td>\n",
       "    </tr>\n",
       "    <tr>\n",
       "      <th>10</th>\n",
       "      <td>Other</td>\n",
       "      <td>45.54</td>\n",
       "    </tr>\n",
       "  </tbody>\n",
       "</table>\n",
       "</div>"
      ],
      "text/plain": [
       "        IMPORTER COUNTRY  Percentage\n",
       "0   United Arab Emirates       11.10\n",
       "1          United States        7.69\n",
       "2                  Nepal        6.54\n",
       "3             Bangladesh        5.86\n",
       "4                 Canada        5.29\n",
       "5                 Bhutan        5.00\n",
       "6           Saudi Arabia        3.89\n",
       "7              Singapore        3.55\n",
       "8                   Oman        2.80\n",
       "9              Australia        2.74\n",
       "10                 Other       45.54"
      ]
     },
     "execution_count": 145,
     "metadata": {},
     "output_type": "execute_result"
    }
   ],
   "source": [
    "dg = dg[['IMPORTER COUNTRY','Percentage']]\n",
    "\n",
    "dg.loc[len(dg.index)] =['Other',round(100-sum(dg['Percentage']),2)] # Inserting row named \"Other\"\n",
    "dg"
   ]
  },
  {
   "cell_type": "code",
   "execution_count": 146,
   "metadata": {},
   "outputs": [
    {
     "data": {
      "image/png": "[encoded data removed]",
      "text/plain": [
       "<Figure size 432x288 with 1 Axes>"
      ]
     },
     "metadata": {},
     "output_type": "display_data"
    }
   ],
   "source": [
    "# pie chart of above chart\n",
    "import matplotlib.pyplot as plt\n",
    "\n",
    "pie_chart = plt.pie(dg[\"Percentage\"], labels = dg[\"IMPORTER COUNTRY\"],autopct='%1.0f%%')\n",
    "plt.title('Top Importer Countries (In terms of FOB value Contribution)')\n",
    "plt.show()"
   ]
  },
  {
   "cell_type": "code",
   "execution_count": 147,
   "metadata": {},
   "outputs": [
    {
     "data": {
      "text/plain": [
       "191"
      ]
     },
     "execution_count": 147,
     "metadata": {},
     "output_type": "execute_result"
    }
   ],
   "source": [
    "df['IMPORTER COUNTRY'].nunique() # Total Importer countires"
   ]
  },
  {
   "attachments": {},
   "cell_type": "markdown",
   "metadata": {},
   "source": [
    "Out of 191 counties 10 countries consist of 55 percent contribution In terms of  FOB value."
   ]
  },
  {
   "attachments": {},
   "cell_type": "markdown",
   "metadata": {},
   "source": [
    "#### Top 4 products in terms of FOB values."
   ]
  },
  {
   "cell_type": "code",
   "execution_count": 137,
   "metadata": {},
   "outputs": [
    {
     "data": {
      "text/html": [
       "<div>\n",
       "<style scoped>\n",
       "    .dataframe tbody tr th:only-of-type {\n",
       "        vertical-align: middle;\n",
       "    }\n",
       "\n",
       "    .dataframe tbody tr th {\n",
       "        vertical-align: top;\n",
       "    }\n",
       "\n",
       "    .dataframe thead th {\n",
       "        text-align: right;\n",
       "    }\n",
       "</style>\n",
       "<table border=\"1\" class=\"dataframe\">\n",
       "  <thead>\n",
       "    <tr style=\"text-align: right;\">\n",
       "      <th></th>\n",
       "      <th>IMPORT VALUE FOB IN USD IN MILLION$</th>\n",
       "    </tr>\n",
       "    <tr>\n",
       "      <th>HS CODE DESCRIPTION</th>\n",
       "      <th></th>\n",
       "    </tr>\n",
       "  </thead>\n",
       "  <tbody>\n",
       "    <tr>\n",
       "      <th>Basmati Rice</th>\n",
       "      <td>6724.0</td>\n",
       "    </tr>\n",
       "    <tr>\n",
       "      <th>Rice Excptg Parboiled (Excl Basmati Rice)</th>\n",
       "      <td>5819.0</td>\n",
       "    </tr>\n",
       "    <tr>\n",
       "      <th>Rice, parboiled</th>\n",
       "      <td>5815.0</td>\n",
       "    </tr>\n",
       "    <tr>\n",
       "      <th>Semi-Milled Or Wholly Milled Rice</th>\n",
       "      <td>663.0</td>\n",
       "    </tr>\n",
       "  </tbody>\n",
       "</table>\n",
       "</div>"
      ],
      "text/plain": [
       "                                           IMPORT VALUE FOB IN USD IN MILLION$\n",
       "HS CODE DESCRIPTION                                                           \n",
       "Basmati Rice                                                            6724.0\n",
       "Rice Excptg Parboiled (Excl Basmati Rice)                               5819.0\n",
       "Rice, parboiled                                                         5815.0\n",
       "Semi-Milled Or Wholly Milled Rice                                        663.0"
      ]
     },
     "execution_count": 137,
     "metadata": {},
     "output_type": "execute_result"
    }
   ],
   "source": [
    "df[['HS CODE DESCRIPTION','IMPORT VALUE FOB IN USD IN MILLION$']].groupby('HS CODE DESCRIPTION').aggregate({'IMPORT VALUE FOB IN USD IN MILLION$':'sum'}).sort_values(by='IMPORT VALUE FOB IN USD IN MILLION$',ascending = False).head(4)"
   ]
  },
  {
   "cell_type": "code",
   "execution_count": 46,
   "metadata": {},
   "outputs": [
    {
     "name": "stderr",
     "output_type": "stream",
     "text": [
      "C:\\Users\\Vaishali Tomar\\AppData\\Local\\Temp\\ipykernel_6804\\135412460.py:2: SettingWithCopyWarning: \n",
      "A value is trying to be set on a copy of a slice from a DataFrame.\n",
      "Try using .loc[row_indexer,col_indexer] = value instead\n",
      "\n",
      "See the caveats in the documentation: https://pandas.pydata.org/pandas-docs/stable/user_guide/indexing.html#returning-a-view-versus-a-copy\n",
      "  df['day']=df['ARRIVAL DATE'].dt.day_name()\n"
     ]
    },
    {
     "data": {
      "text/plain": [
       "dtype('<M8[ns]')"
      ]
     },
     "execution_count": 46,
     "metadata": {},
     "output_type": "execute_result"
    }
   ],
   "source": [
    "# ADDING DATE COLUMN\n",
    "df['day']=df['ARRIVAL DATE'].dt.day_name()\n",
    "df['only_date'] = pd.to_datetime(df['ARRIVAL DATE']).dt.date # ONLY DATE\n"
   ]
  },
  {
   "attachments": {},
   "cell_type": "markdown",
   "metadata": {},
   "source": [
    "### Average shipment perday"
   ]
  },
  {
   "cell_type": "code",
   "execution_count": 93,
   "metadata": {},
   "outputs": [],
   "source": [
    "# unique days\n",
    "date = []\n",
    "for i in df['only_date'].unique():\n",
    "    date.append(i)\n",
    "\n",
    "df1 = pd.DataFrame({'date':date})\n",
    "\n",
    "\n",
    "df1['date'] = pd.to_datetime(df1['date'], errors='coerce')\n",
    "\n",
    "df1['day'] = df1['date'].dt.day_name()\n",
    "A = df1['day'].value_counts().rename_axis('days').reset_index(name='counts')\n"
   ]
  },
  {
   "cell_type": "code",
   "execution_count": 149,
   "metadata": {},
   "outputs": [
    {
     "data": {
      "text/html": [
       "<div>\n",
       "<style scoped>\n",
       "    .dataframe tbody tr th:only-of-type {\n",
       "        vertical-align: middle;\n",
       "    }\n",
       "\n",
       "    .dataframe tbody tr th {\n",
       "        vertical-align: top;\n",
       "    }\n",
       "\n",
       "    .dataframe thead th {\n",
       "        text-align: right;\n",
       "    }\n",
       "</style>\n",
       "<table border=\"1\" class=\"dataframe\">\n",
       "  <thead>\n",
       "    <tr style=\"text-align: right;\">\n",
       "      <th></th>\n",
       "      <th>days</th>\n",
       "      <th>avg_arrived_cont_perday</th>\n",
       "    </tr>\n",
       "  </thead>\n",
       "  <tbody>\n",
       "    <tr>\n",
       "      <th>2</th>\n",
       "      <td>Monday</td>\n",
       "      <td>294.78</td>\n",
       "    </tr>\n",
       "    <tr>\n",
       "      <th>5</th>\n",
       "      <td>Thursday</td>\n",
       "      <td>284.87</td>\n",
       "    </tr>\n",
       "    <tr>\n",
       "      <th>1</th>\n",
       "      <td>Tuesday</td>\n",
       "      <td>280.46</td>\n",
       "    </tr>\n",
       "    <tr>\n",
       "      <th>6</th>\n",
       "      <td>Wednesday</td>\n",
       "      <td>279.16</td>\n",
       "    </tr>\n",
       "    <tr>\n",
       "      <th>3</th>\n",
       "      <td>Friday</td>\n",
       "      <td>271.93</td>\n",
       "    </tr>\n",
       "    <tr>\n",
       "      <th>4</th>\n",
       "      <td>Saturday</td>\n",
       "      <td>227.09</td>\n",
       "    </tr>\n",
       "    <tr>\n",
       "      <th>0</th>\n",
       "      <td>Sunday</td>\n",
       "      <td>66.35</td>\n",
       "    </tr>\n",
       "  </tbody>\n",
       "</table>\n",
       "</div>"
      ],
      "text/plain": [
       "        days  avg_arrived_cont_perday\n",
       "2     Monday                   294.78\n",
       "5   Thursday                   284.87\n",
       "1    Tuesday                   280.46\n",
       "6  Wednesday                   279.16\n",
       "3     Friday                   271.93\n",
       "4   Saturday                   227.09\n",
       "0     Sunday                    66.35"
      ]
     },
     "execution_count": 149,
     "metadata": {},
     "output_type": "execute_result"
    }
   ],
   "source": [
    "# total days\n",
    "df['day'].value_counts() \n",
    "B = df['day'].value_counts().rename_axis('days').reset_index(name='counts_total')\n",
    "final = A.merge(B,on = 'days' ,how = 'inner' )\n",
    "\n",
    "final['avg_arrived_cont_perday'] = round(final['counts_total'] / final['counts'],2)\n",
    "final[['days','avg_arrived_cont_perday']].sort_values(by='avg_arrived_cont_perday', ascending=False)"
   ]
  },
  {
   "attachments": {},
   "cell_type": "markdown",
   "metadata": {},
   "source": [
    "### Quantity exported in tonne per day\n"
   ]
  },
  {
   "cell_type": "code",
   "execution_count": 152,
   "metadata": {},
   "outputs": [
    {
     "data": {
      "text/html": [
       "<div>\n",
       "<style scoped>\n",
       "    .dataframe tbody tr th:only-of-type {\n",
       "        vertical-align: middle;\n",
       "    }\n",
       "\n",
       "    .dataframe tbody tr th {\n",
       "        vertical-align: top;\n",
       "    }\n",
       "\n",
       "    .dataframe thead th {\n",
       "        text-align: right;\n",
       "    }\n",
       "</style>\n",
       "<table border=\"1\" class=\"dataframe\">\n",
       "  <thead>\n",
       "    <tr style=\"text-align: right;\">\n",
       "      <th></th>\n",
       "      <th>day</th>\n",
       "      <th>quantity_in_tonne</th>\n",
       "    </tr>\n",
       "  </thead>\n",
       "  <tbody>\n",
       "    <tr>\n",
       "      <th>1</th>\n",
       "      <td>Monday</td>\n",
       "      <td>6396560.0</td>\n",
       "    </tr>\n",
       "    <tr>\n",
       "      <th>4</th>\n",
       "      <td>Thursday</td>\n",
       "      <td>6243053.0</td>\n",
       "    </tr>\n",
       "    <tr>\n",
       "      <th>6</th>\n",
       "      <td>Wednesday</td>\n",
       "      <td>6027453.0</td>\n",
       "    </tr>\n",
       "    <tr>\n",
       "      <th>5</th>\n",
       "      <td>Tuesday</td>\n",
       "      <td>5962395.0</td>\n",
       "    </tr>\n",
       "    <tr>\n",
       "      <th>0</th>\n",
       "      <td>Friday</td>\n",
       "      <td>5905129.0</td>\n",
       "    </tr>\n",
       "    <tr>\n",
       "      <th>2</th>\n",
       "      <td>Saturday</td>\n",
       "      <td>4693208.0</td>\n",
       "    </tr>\n",
       "    <tr>\n",
       "      <th>3</th>\n",
       "      <td>Sunday</td>\n",
       "      <td>1371160.0</td>\n",
       "    </tr>\n",
       "  </tbody>\n",
       "</table>\n",
       "</div>"
      ],
      "text/plain": [
       "         day  quantity_in_tonne\n",
       "1     Monday          6396560.0\n",
       "4   Thursday          6243053.0\n",
       "6  Wednesday          6027453.0\n",
       "5    Tuesday          5962395.0\n",
       "0     Friday          5905129.0\n",
       "2   Saturday          4693208.0\n",
       "3     Sunday          1371160.0"
      ]
     },
     "execution_count": 152,
     "metadata": {},
     "output_type": "execute_result"
    }
   ],
   "source": [
    "day_quantity = df[['day','quantity_in_tonne']].groupby('day').aggregate({'quantity_in_tonne':'sum'}).reset_index().sort_values(by='quantity_in_tonne', ascending= False)\n",
    "day_quantity"
   ]
  },
  {
   "attachments": {},
   "cell_type": "markdown",
   "metadata": {},
   "source": [
    "### Revenue generated per day in last four years"
   ]
  },
  {
   "cell_type": "code",
   "execution_count": 155,
   "metadata": {},
   "outputs": [
    {
     "data": {
      "text/html": [
       "<div>\n",
       "<style scoped>\n",
       "    .dataframe tbody tr th:only-of-type {\n",
       "        vertical-align: middle;\n",
       "    }\n",
       "\n",
       "    .dataframe tbody tr th {\n",
       "        vertical-align: top;\n",
       "    }\n",
       "\n",
       "    .dataframe thead th {\n",
       "        text-align: right;\n",
       "    }\n",
       "</style>\n",
       "<table border=\"1\" class=\"dataframe\">\n",
       "  <thead>\n",
       "    <tr style=\"text-align: right;\">\n",
       "      <th></th>\n",
       "      <th>day</th>\n",
       "      <th>IMPORT VALUE FOB IN USD IN MILLION$</th>\n",
       "    </tr>\n",
       "  </thead>\n",
       "  <tbody>\n",
       "    <tr>\n",
       "      <th>4</th>\n",
       "      <td>Thursday</td>\n",
       "      <td>4131.0</td>\n",
       "    </tr>\n",
       "    <tr>\n",
       "      <th>5</th>\n",
       "      <td>Tuesday</td>\n",
       "      <td>4092.0</td>\n",
       "    </tr>\n",
       "    <tr>\n",
       "      <th>1</th>\n",
       "      <td>Monday</td>\n",
       "      <td>3582.0</td>\n",
       "    </tr>\n",
       "    <tr>\n",
       "      <th>0</th>\n",
       "      <td>Friday</td>\n",
       "      <td>3422.0</td>\n",
       "    </tr>\n",
       "    <tr>\n",
       "      <th>6</th>\n",
       "      <td>Wednesday</td>\n",
       "      <td>2789.0</td>\n",
       "    </tr>\n",
       "    <tr>\n",
       "      <th>2</th>\n",
       "      <td>Saturday</td>\n",
       "      <td>2573.0</td>\n",
       "    </tr>\n",
       "    <tr>\n",
       "      <th>3</th>\n",
       "      <td>Sunday</td>\n",
       "      <td>647.0</td>\n",
       "    </tr>\n",
       "  </tbody>\n",
       "</table>\n",
       "</div>"
      ],
      "text/plain": [
       "         day  IMPORT VALUE FOB IN USD IN MILLION$\n",
       "4   Thursday                               4131.0\n",
       "5    Tuesday                               4092.0\n",
       "1     Monday                               3582.0\n",
       "0     Friday                               3422.0\n",
       "6  Wednesday                               2789.0\n",
       "2   Saturday                               2573.0\n",
       "3     Sunday                                647.0"
      ]
     },
     "execution_count": 155,
     "metadata": {},
     "output_type": "execute_result"
    }
   ],
   "source": [
    "day_revenue = df[['day','IMPORT VALUE FOB IN USD IN MILLION$']].groupby('day').aggregate({'IMPORT VALUE FOB IN USD IN MILLION$':'sum'}).reset_index().sort_values(by='IMPORT VALUE FOB IN USD IN MILLION$', ascending= False)\n",
    "day_revenue"
   ]
  },
  {
   "attachments": {},
   "cell_type": "markdown",
   "metadata": {},
   "source": [
    "### price per tonne"
   ]
  },
  {
   "cell_type": "code",
   "execution_count": 159,
   "metadata": {},
   "outputs": [
    {
     "data": {
      "text/html": [
       "<div>\n",
       "<style scoped>\n",
       "    .dataframe tbody tr th:only-of-type {\n",
       "        vertical-align: middle;\n",
       "    }\n",
       "\n",
       "    .dataframe tbody tr th {\n",
       "        vertical-align: top;\n",
       "    }\n",
       "\n",
       "    .dataframe thead th {\n",
       "        text-align: right;\n",
       "    }\n",
       "</style>\n",
       "<table border=\"1\" class=\"dataframe\">\n",
       "  <thead>\n",
       "    <tr style=\"text-align: right;\">\n",
       "      <th></th>\n",
       "      <th>day</th>\n",
       "      <th>quantity_in_tonne</th>\n",
       "      <th>IMPORT VALUE FOB IN USD</th>\n",
       "      <th>price_per_tone</th>\n",
       "    </tr>\n",
       "  </thead>\n",
       "  <tbody>\n",
       "    <tr>\n",
       "      <th>3</th>\n",
       "      <td>Tuesday</td>\n",
       "      <td>5962395.0</td>\n",
       "      <td>7.334315e+09</td>\n",
       "      <td>1230.0</td>\n",
       "    </tr>\n",
       "    <tr>\n",
       "      <th>1</th>\n",
       "      <td>Thursday</td>\n",
       "      <td>6243053.0</td>\n",
       "      <td>7.446836e+09</td>\n",
       "      <td>1192.0</td>\n",
       "    </tr>\n",
       "    <tr>\n",
       "      <th>4</th>\n",
       "      <td>Friday</td>\n",
       "      <td>5905129.0</td>\n",
       "      <td>6.659095e+09</td>\n",
       "      <td>1127.0</td>\n",
       "    </tr>\n",
       "    <tr>\n",
       "      <th>5</th>\n",
       "      <td>Saturday</td>\n",
       "      <td>4693208.0</td>\n",
       "      <td>5.248219e+09</td>\n",
       "      <td>1118.0</td>\n",
       "    </tr>\n",
       "    <tr>\n",
       "      <th>0</th>\n",
       "      <td>Monday</td>\n",
       "      <td>6396560.0</td>\n",
       "      <td>7.057349e+09</td>\n",
       "      <td>1103.0</td>\n",
       "    </tr>\n",
       "    <tr>\n",
       "      <th>6</th>\n",
       "      <td>Sunday</td>\n",
       "      <td>1371160.0</td>\n",
       "      <td>1.415843e+09</td>\n",
       "      <td>1032.0</td>\n",
       "    </tr>\n",
       "    <tr>\n",
       "      <th>2</th>\n",
       "      <td>Wednesday</td>\n",
       "      <td>6027453.0</td>\n",
       "      <td>6.113554e+09</td>\n",
       "      <td>1014.0</td>\n",
       "    </tr>\n",
       "  </tbody>\n",
       "</table>\n",
       "</div>"
      ],
      "text/plain": [
       "         day  quantity_in_tonne  IMPORT VALUE FOB IN USD  price_per_tone\n",
       "3    Tuesday          5962395.0             7.334315e+09          1230.0\n",
       "1   Thursday          6243053.0             7.446836e+09          1192.0\n",
       "4     Friday          5905129.0             6.659095e+09          1127.0\n",
       "5   Saturday          4693208.0             5.248219e+09          1118.0\n",
       "0     Monday          6396560.0             7.057349e+09          1103.0\n",
       "6     Sunday          1371160.0             1.415843e+09          1032.0\n",
       "2  Wednesday          6027453.0             6.113554e+09          1014.0"
      ]
     },
     "execution_count": 159,
     "metadata": {},
     "output_type": "execute_result"
    }
   ],
   "source": [
    "day_revenue_USD = df[['day','IMPORT VALUE FOB IN USD']].groupby('day').aggregate({'IMPORT VALUE FOB IN USD':'sum'}).reset_index().sort_values(by='IMPORT VALUE FOB IN USD', ascending= False)\n",
    "finl = day_quantity.merge(day_revenue_USD,on='day',how='inner')\n",
    "finl['price_per_tone'] = finl['IMPORT VALUE FOB IN USD']//finl['quantity_in_tonne']\n",
    "finl.sort_values(by='price_per_tone', ascending=False)"
   ]
  },
  {
   "attachments": {},
   "cell_type": "markdown",
   "metadata": {},
   "source": [
    "--- By above table the maximum price_per_tone is on Tuesdays but maximum quantity is exported on Mondays.\n",
    "--- on friday price_per_tone is ranked 3rd but quantity exported ranked 5th . so we can say that wordload is less on fridays and generating more revenue. same with tuesday. so on with tuesday rank 1st in price_per_tone but ranked 4th in exporting quantity .\n"
   ]
  },
  {
   "cell_type": "markdown",
   "metadata": {},
   "source": []
  }
 ],
 "metadata": {
  "kernelspec": {
   "display_name": "base",
   "language": "python",
   "name": "python3"
  },
  "language_info": {
   "codemirror_mode": {
    "name": "ipython",
    "version": 3
   },
   "file_extension": ".py",
   "mimetype": "text/x-python",
   "name": "python",
   "nbconvert_exporter": "python",
   "pygments_lexer": "ipython3",
   "version": "3.9.12"
  },
  "orig_nbformat": 4,
  "vscode": {
   "interpreter": {
    "hash": "043f2b5a1970a131d06754b308e1494d14bec9888fec20f91acc177f4f73a177"
   }
  }
 },
 "nbformat": 4,
 "nbformat_minor": 2
}
